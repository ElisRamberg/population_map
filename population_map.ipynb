{
 "cells": [
  {
   "cell_type": "code",
   "execution_count": 1,
   "metadata": {},
   "outputs": [
    {
     "name": "stderr",
     "output_type": "stream",
     "text": [
      "2024-09-17 09:46:19.889 WARNING streamlit.runtime.scriptrunner_utils.script_run_context: Thread 'MainThread': missing ScriptRunContext! This warning can be ignored when running in bare mode.\n"
     ]
    }
   ],
   "source": [
    "import streamlit as st\n",
    "from streamlit_folium import st_folium\n",
    "import folium\n",
    "from folium.plugins import Draw\n",
    "import rasterio\n",
    "from rasterio.mask import mask\n",
    "from shapely.geometry import shape\n",
    "import geopandas as gpd\n",
    "import numpy as np\n",
    "import os"
   ]
  },
  {
   "cell_type": "code",
   "execution_count": 2,
   "metadata": {},
   "outputs": [
    {
     "name": "stderr",
     "output_type": "stream",
     "text": [
      "2024-09-17 09:46:20.055 WARNING streamlit.runtime.scriptrunner_utils.script_run_context: Thread 'MainThread': missing ScriptRunContext! This warning can be ignored when running in bare mode.\n",
      "2024-09-17 09:46:20.055 WARNING streamlit.runtime.scriptrunner_utils.script_run_context: Thread 'MainThread': missing ScriptRunContext! This warning can be ignored when running in bare mode.\n",
      "2024-09-17 09:46:20.109 \n",
      "  \u001b[33m\u001b[1mWarning:\u001b[0m to view this Streamlit app on a browser, run it with the following\n",
      "  command:\n",
      "\n",
      "    streamlit run c:\\Users\\915630\\OneDrive - TRANSDEV\\Documents\\Personligt\\Befolkningskarta\\.venv\\Lib\\site-packages\\ipykernel_launcher.py [ARGUMENTS]\n",
      "2024-09-17 09:46:20.110 Thread 'MainThread': missing ScriptRunContext! This warning can be ignored when running in bare mode.\n",
      "2024-09-17 09:46:20.111 Thread 'MainThread': missing ScriptRunContext! This warning can be ignored when running in bare mode.\n",
      "2024-09-17 09:46:20.111 Thread 'MainThread': missing ScriptRunContext! This warning can be ignored when running in bare mode.\n"
     ]
    }
   ],
   "source": [
    "# Set the page configuration\n",
    "st.set_page_config(layout=\"wide\")\n",
    "\n",
    "st.title(\"Interactive World Population Map\")\n",
    "\n",
    "# Load the population raster data\n",
    "raster_file = 'gpw_v4_population_count_rev11_2020_2pt5_min.tif'\n",
    "\n",
    "if not os.path.exists(raster_file):\n",
    "    st.warning(f\"Population raster file '{raster_file}' not found. Please download and place it in the same directory.\")\n",
    "else:\n",
    "    raster = rasterio.open(raster_file)\n",
    "\n",
    "    # Get raster CRS\n",
    "    raster_crs = raster.crs\n",
    "\n",
    "    # Create a base map\n",
    "    m = folium.Map(location=[20, 0], zoom_start=2)\n",
    "\n",
    "    # Add the Draw plugin\n",
    "    draw = Draw(export=True, filename='drawn_shape.geojson', position='topleft', draw_options={\n",
    "        'polyline': False,\n",
    "        'rectangle': False,\n",
    "        'circle': False,\n",
    "        'marker': False,\n",
    "        'circlemarker': False,\n",
    "        'polygon': True\n",
    "    })\n",
    "    draw.add_to(m)\n",
    "\n",
    "    # Display the map\n",
    "    output = st_folium(m, width=1000, height=600)\n",
    "\n",
    "    # Process the drawn polygon\n",
    "    if output['all_drawings']:\n",
    "        # Get the last drawn feature\n",
    "        last_feature = output['all_drawings'][-1]\n",
    "        geom = last_feature['geometry']\n",
    "\n",
    "        # Create a GeoDataFrame in WGS84\n",
    "        polygon_gdf = gpd.GeoDataFrame(index=[0], crs=\"EPSG:4326\", geometry=[shape(geom)])\n",
    "\n",
    "        # Reproject the polygon to raster CRS\n",
    "        polygon_proj = polygon_gdf.to_crs(raster.crs)\n",
    "\n",
    "        # Mask the raster with the transformed polygon\n",
    "        try:\n",
    "            out_image, out_transform = mask(raster, polygon_proj.geometry, crop=True)\n",
    "            out_image = out_image[0]  # Get the first band\n",
    "\n",
    "            # Replace no-data values with zeros\n",
    "            out_image = np.nan_to_num(out_image, nan=0)\n",
    "\n",
    "            # Sum the population values\n",
    "            total_population = np.sum(out_image)\n",
    "\n",
    "            st.write(f\"### Total population in the selected area: {int(total_population):,}\")\n",
    "        except Exception as e:\n",
    "            st.error(f\"Error processing the polygon: {e}\")"
   ]
  },
  {
   "cell_type": "code",
   "execution_count": 3,
   "metadata": {},
   "outputs": [
    {
     "ename": "ModuleNotFoundError",
     "evalue": "No module named 'matplotlib'",
     "output_type": "error",
     "traceback": [
      "\u001b[1;31m---------------------------------------------------------------------------\u001b[0m",
      "\u001b[1;31mModuleNotFoundError\u001b[0m                       Traceback (most recent call last)",
      "Cell \u001b[1;32mIn[3], line 11\u001b[0m\n\u001b[0;32m      9\u001b[0m \u001b[38;5;28;01mimport\u001b[39;00m \u001b[38;5;21;01mnumpy\u001b[39;00m \u001b[38;5;28;01mas\u001b[39;00m \u001b[38;5;21;01mnp\u001b[39;00m\n\u001b[0;32m     10\u001b[0m \u001b[38;5;28;01mimport\u001b[39;00m \u001b[38;5;21;01mos\u001b[39;00m\n\u001b[1;32m---> 11\u001b[0m \u001b[38;5;28;01mimport\u001b[39;00m \u001b[38;5;21;01mmatplotlib\u001b[39;00m\u001b[38;5;21;01m.\u001b[39;00m\u001b[38;5;21;01mpyplot\u001b[39;00m \u001b[38;5;28;01mas\u001b[39;00m \u001b[38;5;21;01mplt\u001b[39;00m\n\u001b[0;32m     12\u001b[0m \u001b[38;5;28;01mfrom\u001b[39;00m \u001b[38;5;21;01mPIL\u001b[39;00m \u001b[38;5;28;01mimport\u001b[39;00m Image\n\u001b[0;32m     13\u001b[0m \u001b[38;5;28;01mfrom\u001b[39;00m \u001b[38;5;21;01mio\u001b[39;00m \u001b[38;5;28;01mimport\u001b[39;00m BytesIO\n",
      "\u001b[1;31mModuleNotFoundError\u001b[0m: No module named 'matplotlib'"
     ]
    }
   ],
   "source": [
    "import streamlit as st\n",
    "from streamlit_folium import st_folium\n",
    "import folium\n",
    "from folium.plugins import Draw\n",
    "import rasterio\n",
    "from rasterio.mask import mask\n",
    "from shapely.geometry import shape\n",
    "import geopandas as gpd\n",
    "import numpy as np\n",
    "import os\n",
    "import matplotlib.pyplot as plt\n",
    "from PIL import Image\n",
    "from io import BytesIO\n",
    "import base64\n",
    "from rasterio.enums import Resampling\n",
    "from rasterio.transform import Affine\n",
    "from rasterio.transform import array_bounds"
   ]
  }
 ],
 "metadata": {
  "kernelspec": {
   "display_name": ".venv",
   "language": "python",
   "name": "python3"
  },
  "language_info": {
   "codemirror_mode": {
    "name": "ipython",
    "version": 3
   },
   "file_extension": ".py",
   "mimetype": "text/x-python",
   "name": "python",
   "nbconvert_exporter": "python",
   "pygments_lexer": "ipython3",
   "version": "3.12.0"
  }
 },
 "nbformat": 4,
 "nbformat_minor": 2
}
